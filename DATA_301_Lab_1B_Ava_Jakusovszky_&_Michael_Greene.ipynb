{
  "nbformat": 4,
  "nbformat_minor": 0,
  "metadata": {
    "kernelspec": {
      "display_name": "Python 3",
      "language": "python",
      "name": "python3"
    },
    "language_info": {
      "codemirror_mode": {
        "name": "ipython",
        "version": 3
      },
      "file_extension": ".py",
      "mimetype": "text/x-python",
      "name": "python",
      "nbconvert_exporter": "python",
      "pygments_lexer": "ipython3",
      "version": "3.6.4"
    },
    "colab": {
      "name": "DATA 301 Lab 1B - Ava Jakusovszky & Michael Greene",
      "provenance": [],
      "collapsed_sections": [],
      "include_colab_link": true
    }
  },
  "cells": [
    {
      "cell_type": "markdown",
      "metadata": {
        "id": "view-in-github",
        "colab_type": "text"
      },
      "source": [
        "<a href=\"https://colab.research.google.com/github/Cal-Poly-Data-301/lab-1-phase-2-ajak-cp/blob/main/DATA_301_Lab_1B_Ava_Jakusovszky_%26_Michael_Greene.ipynb\" target=\"_parent\"><img src=\"https://colab.research.google.com/assets/colab-badge.svg\" alt=\"Open In Colab\"/></a>"
      ]
    },
    {
      "cell_type": "markdown",
      "metadata": {
        "id": "uQm3Aekkc8kE"
      },
      "source": [
        "# Explore the In Class Survey\n",
        "\n",
        "During the first class, you filled out the [first-day survey](https://docs.google.com/forms/d/e/1FAIpQLSczqKwzkye0RP8byLMxzj1Br3kC_YUdVGLWmMXX6VND99ivWg/viewform). In this lab, you will explore [the responses](https://docs.google.com/spreadsheets/d/1K9rfAscLESbwvovOc1aD3K6PFgdqkVRbaFHeD-UMTSc/edit?usp=sharing).\n",
        "\n",
        "Download the spreadsheet from the link above, then read the data into a `pandas` `DataFrame` whose columns are the survey questions. Each row represents one student's response to the questions."
      ]
    },
    {
      "cell_type": "markdown",
      "metadata": {
        "id": "k54rkU7Ec8kO"
      },
      "source": [
        "## Question 1\n",
        "\n",
        "Make a graphic that visualizes the favorite colors of students in DATA 301. Explain what you see.\n",
        "\n",
        "(_Hint:_ You might have to clean the data a bit first.)"
      ]
    },
    {
      "cell_type": "markdown",
      "source": [
        "The small dataset made it beneficial to generalize colors, ie light blue is just blue. The visualization shows a dramatic favor to blue tones, but most of the popular colors all fall in the cool tone category. "
      ],
      "metadata": {
        "id": "W3a7Xwe7Q-SA"
      }
    },
    {
      "cell_type": "code",
      "metadata": {
        "id": "Ym53WixOc8kL",
        "colab": {
          "base_uri": "https://localhost:8080/",
          "height": 389
        },
        "outputId": "8a8da3f1-692f-4475-fc13-9a5f34e1cb4d"
      },
      "source": [
        "import pandas as pd\n",
        "df_class = pd.read_csv(\"CSR.csv\")\n",
        "df_class.head()"
      ],
      "execution_count": 4,
      "outputs": [
        {
          "output_type": "execute_result",
          "data": {
            "text/html": [
              "\n",
              "  <div id=\"df-6b528533-e20f-4ae8-965d-0184d87a0c1b\">\n",
              "    <div class=\"colab-df-container\">\n",
              "      <div>\n",
              "<style scoped>\n",
              "    .dataframe tbody tr th:only-of-type {\n",
              "        vertical-align: middle;\n",
              "    }\n",
              "\n",
              "    .dataframe tbody tr th {\n",
              "        vertical-align: top;\n",
              "    }\n",
              "\n",
              "    .dataframe thead th {\n",
              "        text-align: right;\n",
              "    }\n",
              "</style>\n",
              "<table border=\"1\" class=\"dataframe\">\n",
              "  <thead>\n",
              "    <tr style=\"text-align: right;\">\n",
              "      <th></th>\n",
              "      <th>What is your major?</th>\n",
              "      <th>Where are you living this quarter?</th>\n",
              "      <th>How many siblings do you have?</th>\n",
              "      <th>What is your favorite color?</th>\n",
              "      <th>What is a cool TV show, movie, or book that you liked in 2020?</th>\n",
              "      <th>Suppose you wanted to fill an average-sized school bus entirely with golf balls.  How many golf balls do you think you would need?</th>\n",
              "      <th>Do you consider yourself a sports fan?</th>\n",
              "      <th>Do you enjoy video games?</th>\n",
              "      <th>Do you consider yourself artistic?</th>\n",
              "    </tr>\n",
              "  </thead>\n",
              "  <tbody>\n",
              "    <tr>\n",
              "      <th>0</th>\n",
              "      <td>Other</td>\n",
              "      <td>Off Campus, but in SLO</td>\n",
              "      <td>2</td>\n",
              "      <td>Light Blue</td>\n",
              "      <td>Criminal Minds</td>\n",
              "      <td>500000.0</td>\n",
              "      <td>No</td>\n",
              "      <td>Yes</td>\n",
              "      <td>Yes</td>\n",
              "    </tr>\n",
              "    <tr>\n",
              "      <th>1</th>\n",
              "      <td>Statistics</td>\n",
              "      <td>Off Campus, outside of SLO</td>\n",
              "      <td>5</td>\n",
              "      <td>green</td>\n",
              "      <td>A Gentleman in Moscow</td>\n",
              "      <td>930000.0</td>\n",
              "      <td>No</td>\n",
              "      <td>No</td>\n",
              "      <td>No</td>\n",
              "    </tr>\n",
              "    <tr>\n",
              "      <th>2</th>\n",
              "      <td>Computer Science</td>\n",
              "      <td>Off Campus, but in SLO</td>\n",
              "      <td>2</td>\n",
              "      <td>blue</td>\n",
              "      <td>Crescent City by Sarah J Maas</td>\n",
              "      <td>10000000.0</td>\n",
              "      <td>Yes</td>\n",
              "      <td>No</td>\n",
              "      <td>Yes</td>\n",
              "    </tr>\n",
              "    <tr>\n",
              "      <th>3</th>\n",
              "      <td>Other</td>\n",
              "      <td>Off Campus, outside of SLO</td>\n",
              "      <td>2</td>\n",
              "      <td>Green</td>\n",
              "      <td>The Institute by Stephen King</td>\n",
              "      <td>400000.0</td>\n",
              "      <td>No</td>\n",
              "      <td>No</td>\n",
              "      <td>Yes</td>\n",
              "    </tr>\n",
              "    <tr>\n",
              "      <th>4</th>\n",
              "      <td>Computer Science</td>\n",
              "      <td>Off Campus, outside of SLO</td>\n",
              "      <td>1</td>\n",
              "      <td>Blue/Indigo</td>\n",
              "      <td>Peaky Blinders</td>\n",
              "      <td>100000.0</td>\n",
              "      <td>Yes</td>\n",
              "      <td>Yes</td>\n",
              "      <td>No</td>\n",
              "    </tr>\n",
              "  </tbody>\n",
              "</table>\n",
              "</div>\n",
              "      <button class=\"colab-df-convert\" onclick=\"convertToInteractive('df-6b528533-e20f-4ae8-965d-0184d87a0c1b')\"\n",
              "              title=\"Convert this dataframe to an interactive table.\"\n",
              "              style=\"display:none;\">\n",
              "        \n",
              "  <svg xmlns=\"http://www.w3.org/2000/svg\" height=\"24px\"viewBox=\"0 0 24 24\"\n",
              "       width=\"24px\">\n",
              "    <path d=\"M0 0h24v24H0V0z\" fill=\"none\"/>\n",
              "    <path d=\"M18.56 5.44l.94 2.06.94-2.06 2.06-.94-2.06-.94-.94-2.06-.94 2.06-2.06.94zm-11 1L8.5 8.5l.94-2.06 2.06-.94-2.06-.94L8.5 2.5l-.94 2.06-2.06.94zm10 10l.94 2.06.94-2.06 2.06-.94-2.06-.94-.94-2.06-.94 2.06-2.06.94z\"/><path d=\"M17.41 7.96l-1.37-1.37c-.4-.4-.92-.59-1.43-.59-.52 0-1.04.2-1.43.59L10.3 9.45l-7.72 7.72c-.78.78-.78 2.05 0 2.83L4 21.41c.39.39.9.59 1.41.59.51 0 1.02-.2 1.41-.59l7.78-7.78 2.81-2.81c.8-.78.8-2.07 0-2.86zM5.41 20L4 18.59l7.72-7.72 1.47 1.35L5.41 20z\"/>\n",
              "  </svg>\n",
              "      </button>\n",
              "      \n",
              "  <style>\n",
              "    .colab-df-container {\n",
              "      display:flex;\n",
              "      flex-wrap:wrap;\n",
              "      gap: 12px;\n",
              "    }\n",
              "\n",
              "    .colab-df-convert {\n",
              "      background-color: #E8F0FE;\n",
              "      border: none;\n",
              "      border-radius: 50%;\n",
              "      cursor: pointer;\n",
              "      display: none;\n",
              "      fill: #1967D2;\n",
              "      height: 32px;\n",
              "      padding: 0 0 0 0;\n",
              "      width: 32px;\n",
              "    }\n",
              "\n",
              "    .colab-df-convert:hover {\n",
              "      background-color: #E2EBFA;\n",
              "      box-shadow: 0px 1px 2px rgba(60, 64, 67, 0.3), 0px 1px 3px 1px rgba(60, 64, 67, 0.15);\n",
              "      fill: #174EA6;\n",
              "    }\n",
              "\n",
              "    [theme=dark] .colab-df-convert {\n",
              "      background-color: #3B4455;\n",
              "      fill: #D2E3FC;\n",
              "    }\n",
              "\n",
              "    [theme=dark] .colab-df-convert:hover {\n",
              "      background-color: #434B5C;\n",
              "      box-shadow: 0px 1px 3px 1px rgba(0, 0, 0, 0.15);\n",
              "      filter: drop-shadow(0px 1px 2px rgba(0, 0, 0, 0.3));\n",
              "      fill: #FFFFFF;\n",
              "    }\n",
              "  </style>\n",
              "\n",
              "      <script>\n",
              "        const buttonEl =\n",
              "          document.querySelector('#df-6b528533-e20f-4ae8-965d-0184d87a0c1b button.colab-df-convert');\n",
              "        buttonEl.style.display =\n",
              "          google.colab.kernel.accessAllowed ? 'block' : 'none';\n",
              "\n",
              "        async function convertToInteractive(key) {\n",
              "          const element = document.querySelector('#df-6b528533-e20f-4ae8-965d-0184d87a0c1b');\n",
              "          const dataTable =\n",
              "            await google.colab.kernel.invokeFunction('convertToInteractive',\n",
              "                                                     [key], {});\n",
              "          if (!dataTable) return;\n",
              "\n",
              "          const docLinkHtml = 'Like what you see? Visit the ' +\n",
              "            '<a target=\"_blank\" href=https://colab.research.google.com/notebooks/data_table.ipynb>data table notebook</a>'\n",
              "            + ' to learn more about interactive tables.';\n",
              "          element.innerHTML = '';\n",
              "          dataTable['output_type'] = 'display_data';\n",
              "          await google.colab.output.renderOutput(dataTable, element);\n",
              "          const docLink = document.createElement('div');\n",
              "          docLink.innerHTML = docLinkHtml;\n",
              "          element.appendChild(docLink);\n",
              "        }\n",
              "      </script>\n",
              "    </div>\n",
              "  </div>\n",
              "  "
            ],
            "text/plain": [
              "  What is your major?  ... Do you consider yourself artistic?\n",
              "0               Other  ...                                Yes\n",
              "1          Statistics  ...                                 No\n",
              "2    Computer Science  ...                                Yes\n",
              "3               Other  ...                                Yes\n",
              "4    Computer Science  ...                                 No\n",
              "\n",
              "[5 rows x 9 columns]"
            ]
          },
          "metadata": {},
          "execution_count": 4
        }
      ]
    },
    {
      "cell_type": "markdown",
      "metadata": {
        "id": "fCYgs1_kc8kN"
      },
      "source": [
        "**TYPE YOUR WRITTEN EXPLANATION HERE.**"
      ]
    },
    {
      "cell_type": "code",
      "source": [
        "\n",
        "def class_to_type(c):\n",
        "  c = c.lower()\n",
        "  if \"blue\" in c:\n",
        "    return \"Blue\"\n",
        "  elif \"green\" in c:\n",
        "    return \"Green\"\n",
        "  elif \"red\" in c:\n",
        "    return \"Red\"\n",
        "  elif \"purple\" in c:\n",
        "    return \"Purple\"\n",
        "  elif \"pink\" in c:\n",
        "    return \"Pink\"\n",
        "  elif \"black\" in c:\n",
        "    return \"Black\"\n",
        "  elif \"grey\" in c or \"gray\" in c:\n",
        "    return \"Grey/Gray\"\n",
        "  elif c == '':\n",
        "    return \"Declined to Say\"\n",
        "  else:\n",
        "    return c.capitalize()\n",
        "df_class[\"What is your favorite color?\"] = df_class[\"What is your favorite color?\"].fillna('')\n",
        "df_class\n",
        "df_class[\"General Color\"] = df_class[\"What is your favorite color?\"].map(class_to_type)\n"
      ],
      "metadata": {
        "id": "kbcNL_tegvWc"
      },
      "execution_count": 22,
      "outputs": []
    },
    {
      "cell_type": "code",
      "source": [
        "df_class[\"General Color\"].value_counts().plot.bar()"
      ],
      "metadata": {
        "colab": {
          "base_uri": "https://localhost:8080/",
          "height": 323
        },
        "id": "0C2EJsfRfz5o",
        "outputId": "a766eef1-e27a-4090-d0ca-c1ae525178fc"
      },
      "execution_count": 23,
      "outputs": [
        {
          "output_type": "execute_result",
          "data": {
            "text/plain": [
              "<matplotlib.axes._subplots.AxesSubplot at 0x7f91d4b002d0>"
            ]
          },
          "metadata": {},
          "execution_count": 23
        },
        {
          "output_type": "display_data",
          "data": {
            "image/png": "[encoded data removed]",
            "text/plain": [
              "<Figure size 432x288 with 1 Axes>"
            ]
          },
          "metadata": {
            "needs_background": "light"
          }
        }
      ]
    },
    {
      "cell_type": "markdown",
      "metadata": {
        "id": "EDUBQeggc8kK"
      },
      "source": [
        "## Question 2\n",
        "\n",
        "Is there a relationship between the number of siblings a student has, and whether or not they live in SLO?\n",
        "\n",
        "Make a visualization to address this question, and discuss the result."
      ]
    },
    {
      "cell_type": "code",
      "source": [
        "df_class[\"Where are you living this quarter?\"].value_counts()"
      ],
      "metadata": {
        "colab": {
          "base_uri": "https://localhost:8080/"
        },
        "id": "QEZ4k98wl8w0",
        "outputId": "daff0317-efe5-4ff5-fa7b-d7b0e0780d2c"
      },
      "execution_count": 7,
      "outputs": [
        {
          "output_type": "execute_result",
          "data": {
            "text/plain": [
              "Off Campus, but in SLO        30\n",
              "Off Campus, outside of SLO    25\n",
              "On-Campus housing              2\n",
              "Name: Where are you living this quarter?, dtype: int64"
            ]
          },
          "metadata": {},
          "execution_count": 7
        }
      ]
    },
    {
      "cell_type": "code",
      "metadata": {
        "id": "TpDoV7rvc8kO",
        "colab": {
          "base_uri": "https://localhost:8080/",
          "height": 143
        },
        "outputId": "b0420f29-9072-4d30-f8fd-44dba12bcf4e"
      },
      "source": [
        "def class_to_type(c):\n",
        "  if c in [\"Off Campus, but in SLO\", \"On-Campus housing\"]:\n",
        "    return \"In SLO\"\n",
        "  else:\n",
        "    return \"Outside SLO\"\n",
        "df_class[\"Where are you living this quarter?\"] = df_class[\"Where are you living this quarter?\"].fillna('')\n",
        "df_class[\"General: Where are you living this quarter?\"] = df_class[\"Where are you living this quarter?\"].map(class_to_type)\n",
        "joint_sib_and_slo = pd.crosstab(df_class[\"General: Where are you living this quarter?\"],df_class[\"How many siblings do you have?\"], normalize=True)\n",
        "joint_sib_and_slo"
      ],
      "execution_count": 8,
      "outputs": [
        {
          "output_type": "execute_result",
          "data": {
            "text/html": [
              "\n",
              "  <div id=\"df-9c63df68-2917-4ea1-9469-6d96d05d490f\">\n",
              "    <div class=\"colab-df-container\">\n",
              "      <div>\n",
              "<style scoped>\n",
              "    .dataframe tbody tr th:only-of-type {\n",
              "        vertical-align: middle;\n",
              "    }\n",
              "\n",
              "    .dataframe tbody tr th {\n",
              "        vertical-align: top;\n",
              "    }\n",
              "\n",
              "    .dataframe thead th {\n",
              "        text-align: right;\n",
              "    }\n",
              "</style>\n",
              "<table border=\"1\" class=\"dataframe\">\n",
              "  <thead>\n",
              "    <tr style=\"text-align: right;\">\n",
              "      <th>How many siblings do you have?</th>\n",
              "      <th>0</th>\n",
              "      <th>1</th>\n",
              "      <th>2</th>\n",
              "      <th>3</th>\n",
              "      <th>5</th>\n",
              "    </tr>\n",
              "    <tr>\n",
              "      <th>General: Where are you living this quarter?</th>\n",
              "      <th></th>\n",
              "      <th></th>\n",
              "      <th></th>\n",
              "      <th></th>\n",
              "      <th></th>\n",
              "    </tr>\n",
              "  </thead>\n",
              "  <tbody>\n",
              "    <tr>\n",
              "      <th>In SLO</th>\n",
              "      <td>0.017241</td>\n",
              "      <td>0.275862</td>\n",
              "      <td>0.224138</td>\n",
              "      <td>0.034483</td>\n",
              "      <td>0.000000</td>\n",
              "    </tr>\n",
              "    <tr>\n",
              "      <th>Outside SLO</th>\n",
              "      <td>0.068966</td>\n",
              "      <td>0.155172</td>\n",
              "      <td>0.120690</td>\n",
              "      <td>0.068966</td>\n",
              "      <td>0.034483</td>\n",
              "    </tr>\n",
              "  </tbody>\n",
              "</table>\n",
              "</div>\n",
              "      <button class=\"colab-df-convert\" onclick=\"convertToInteractive('df-9c63df68-2917-4ea1-9469-6d96d05d490f')\"\n",
              "              title=\"Convert this dataframe to an interactive table.\"\n",
              "              style=\"display:none;\">\n",
              "        \n",
              "  <svg xmlns=\"http://www.w3.org/2000/svg\" height=\"24px\"viewBox=\"0 0 24 24\"\n",
              "       width=\"24px\">\n",
              "    <path d=\"M0 0h24v24H0V0z\" fill=\"none\"/>\n",
              "    <path d=\"M18.56 5.44l.94 2.06.94-2.06 2.06-.94-2.06-.94-.94-2.06-.94 2.06-2.06.94zm-11 1L8.5 8.5l.94-2.06 2.06-.94-2.06-.94L8.5 2.5l-.94 2.06-2.06.94zm10 10l.94 2.06.94-2.06 2.06-.94-2.06-.94-.94-2.06-.94 2.06-2.06.94z\"/><path d=\"M17.41 7.96l-1.37-1.37c-.4-.4-.92-.59-1.43-.59-.52 0-1.04.2-1.43.59L10.3 9.45l-7.72 7.72c-.78.78-.78 2.05 0 2.83L4 21.41c.39.39.9.59 1.41.59.51 0 1.02-.2 1.41-.59l7.78-7.78 2.81-2.81c.8-.78.8-2.07 0-2.86zM5.41 20L4 18.59l7.72-7.72 1.47 1.35L5.41 20z\"/>\n",
              "  </svg>\n",
              "      </button>\n",
              "      \n",
              "  <style>\n",
              "    .colab-df-container {\n",
              "      display:flex;\n",
              "      flex-wrap:wrap;\n",
              "      gap: 12px;\n",
              "    }\n",
              "\n",
              "    .colab-df-convert {\n",
              "      background-color: #E8F0FE;\n",
              "      border: none;\n",
              "      border-radius: 50%;\n",
              "      cursor: pointer;\n",
              "      display: none;\n",
              "      fill: #1967D2;\n",
              "      height: 32px;\n",
              "      padding: 0 0 0 0;\n",
              "      width: 32px;\n",
              "    }\n",
              "\n",
              "    .colab-df-convert:hover {\n",
              "      background-color: #E2EBFA;\n",
              "      box-shadow: 0px 1px 2px rgba(60, 64, 67, 0.3), 0px 1px 3px 1px rgba(60, 64, 67, 0.15);\n",
              "      fill: #174EA6;\n",
              "    }\n",
              "\n",
              "    [theme=dark] .colab-df-convert {\n",
              "      background-color: #3B4455;\n",
              "      fill: #D2E3FC;\n",
              "    }\n",
              "\n",
              "    [theme=dark] .colab-df-convert:hover {\n",
              "      background-color: #434B5C;\n",
              "      box-shadow: 0px 1px 3px 1px rgba(0, 0, 0, 0.15);\n",
              "      filter: drop-shadow(0px 1px 2px rgba(0, 0, 0, 0.3));\n",
              "      fill: #FFFFFF;\n",
              "    }\n",
              "  </style>\n",
              "\n",
              "      <script>\n",
              "        const buttonEl =\n",
              "          document.querySelector('#df-9c63df68-2917-4ea1-9469-6d96d05d490f button.colab-df-convert');\n",
              "        buttonEl.style.display =\n",
              "          google.colab.kernel.accessAllowed ? 'block' : 'none';\n",
              "\n",
              "        async function convertToInteractive(key) {\n",
              "          const element = document.querySelector('#df-9c63df68-2917-4ea1-9469-6d96d05d490f');\n",
              "          const dataTable =\n",
              "            await google.colab.kernel.invokeFunction('convertToInteractive',\n",
              "                                                     [key], {});\n",
              "          if (!dataTable) return;\n",
              "\n",
              "          const docLinkHtml = 'Like what you see? Visit the ' +\n",
              "            '<a target=\"_blank\" href=https://colab.research.google.com/notebooks/data_table.ipynb>data table notebook</a>'\n",
              "            + ' to learn more about interactive tables.';\n",
              "          element.innerHTML = '';\n",
              "          dataTable['output_type'] = 'display_data';\n",
              "          await google.colab.output.renderOutput(dataTable, element);\n",
              "          const docLink = document.createElement('div');\n",
              "          docLink.innerHTML = docLinkHtml;\n",
              "          element.appendChild(docLink);\n",
              "        }\n",
              "      </script>\n",
              "    </div>\n",
              "  </div>\n",
              "  "
            ],
            "text/plain": [
              "How many siblings do you have?                      0  ...         5\n",
              "General: Where are you living this quarter?            ...          \n",
              "In SLO                                       0.017241  ...  0.000000\n",
              "Outside SLO                                  0.068966  ...  0.034483\n",
              "\n",
              "[2 rows x 5 columns]"
            ]
          },
          "metadata": {},
          "execution_count": 8
        }
      ]
    },
    {
      "cell_type": "code",
      "source": [
        "inout_dist = joint_sib_and_slo.sum(axis=0) \n",
        "inout_dist\n",
        "# axis = 0 adds columns; axis = 1 adds rows\n",
        "cond_inout = joint_sib_and_slo.divide(inout_dist, axis=1)\n",
        "cond_inout"
      ],
      "metadata": {
        "colab": {
          "base_uri": "https://localhost:8080/",
          "height": 143
        },
        "id": "7LSB_o69lNns",
        "outputId": "4a00552c-3a71-455d-971d-39e70f6f43ab"
      },
      "execution_count": 9,
      "outputs": [
        {
          "output_type": "execute_result",
          "data": {
            "text/html": [
              "\n",
              "  <div id=\"df-61a6f1b8-1981-4356-9eb8-093e75ec5788\">\n",
              "    <div class=\"colab-df-container\">\n",
              "      <div>\n",
              "<style scoped>\n",
              "    .dataframe tbody tr th:only-of-type {\n",
              "        vertical-align: middle;\n",
              "    }\n",
              "\n",
              "    .dataframe tbody tr th {\n",
              "        vertical-align: top;\n",
              "    }\n",
              "\n",
              "    .dataframe thead th {\n",
              "        text-align: right;\n",
              "    }\n",
              "</style>\n",
              "<table border=\"1\" class=\"dataframe\">\n",
              "  <thead>\n",
              "    <tr style=\"text-align: right;\">\n",
              "      <th>How many siblings do you have?</th>\n",
              "      <th>0</th>\n",
              "      <th>1</th>\n",
              "      <th>2</th>\n",
              "      <th>3</th>\n",
              "      <th>5</th>\n",
              "    </tr>\n",
              "    <tr>\n",
              "      <th>General: Where are you living this quarter?</th>\n",
              "      <th></th>\n",
              "      <th></th>\n",
              "      <th></th>\n",
              "      <th></th>\n",
              "      <th></th>\n",
              "    </tr>\n",
              "  </thead>\n",
              "  <tbody>\n",
              "    <tr>\n",
              "      <th>In SLO</th>\n",
              "      <td>0.2</td>\n",
              "      <td>0.64</td>\n",
              "      <td>0.65</td>\n",
              "      <td>0.333333</td>\n",
              "      <td>0.0</td>\n",
              "    </tr>\n",
              "    <tr>\n",
              "      <th>Outside SLO</th>\n",
              "      <td>0.8</td>\n",
              "      <td>0.36</td>\n",
              "      <td>0.35</td>\n",
              "      <td>0.666667</td>\n",
              "      <td>1.0</td>\n",
              "    </tr>\n",
              "  </tbody>\n",
              "</table>\n",
              "</div>\n",
              "      <button class=\"colab-df-convert\" onclick=\"convertToInteractive('df-61a6f1b8-1981-4356-9eb8-093e75ec5788')\"\n",
              "              title=\"Convert this dataframe to an interactive table.\"\n",
              "              style=\"display:none;\">\n",
              "        \n",
              "  <svg xmlns=\"http://www.w3.org/2000/svg\" height=\"24px\"viewBox=\"0 0 24 24\"\n",
              "       width=\"24px\">\n",
              "    <path d=\"M0 0h24v24H0V0z\" fill=\"none\"/>\n",
              "    <path d=\"M18.56 5.44l.94 2.06.94-2.06 2.06-.94-2.06-.94-.94-2.06-.94 2.06-2.06.94zm-11 1L8.5 8.5l.94-2.06 2.06-.94-2.06-.94L8.5 2.5l-.94 2.06-2.06.94zm10 10l.94 2.06.94-2.06 2.06-.94-2.06-.94-.94-2.06-.94 2.06-2.06.94z\"/><path d=\"M17.41 7.96l-1.37-1.37c-.4-.4-.92-.59-1.43-.59-.52 0-1.04.2-1.43.59L10.3 9.45l-7.72 7.72c-.78.78-.78 2.05 0 2.83L4 21.41c.39.39.9.59 1.41.59.51 0 1.02-.2 1.41-.59l7.78-7.78 2.81-2.81c.8-.78.8-2.07 0-2.86zM5.41 20L4 18.59l7.72-7.72 1.47 1.35L5.41 20z\"/>\n",
              "  </svg>\n",
              "      </button>\n",
              "      \n",
              "  <style>\n",
              "    .colab-df-container {\n",
              "      display:flex;\n",
              "      flex-wrap:wrap;\n",
              "      gap: 12px;\n",
              "    }\n",
              "\n",
              "    .colab-df-convert {\n",
              "      background-color: #E8F0FE;\n",
              "      border: none;\n",
              "      border-radius: 50%;\n",
              "      cursor: pointer;\n",
              "      display: none;\n",
              "      fill: #1967D2;\n",
              "      height: 32px;\n",
              "      padding: 0 0 0 0;\n",
              "      width: 32px;\n",
              "    }\n",
              "\n",
              "    .colab-df-convert:hover {\n",
              "      background-color: #E2EBFA;\n",
              "      box-shadow: 0px 1px 2px rgba(60, 64, 67, 0.3), 0px 1px 3px 1px rgba(60, 64, 67, 0.15);\n",
              "      fill: #174EA6;\n",
              "    }\n",
              "\n",
              "    [theme=dark] .colab-df-convert {\n",
              "      background-color: #3B4455;\n",
              "      fill: #D2E3FC;\n",
              "    }\n",
              "\n",
              "    [theme=dark] .colab-df-convert:hover {\n",
              "      background-color: #434B5C;\n",
              "      box-shadow: 0px 1px 3px 1px rgba(0, 0, 0, 0.15);\n",
              "      filter: drop-shadow(0px 1px 2px rgba(0, 0, 0, 0.3));\n",
              "      fill: #FFFFFF;\n",
              "    }\n",
              "  </style>\n",
              "\n",
              "      <script>\n",
              "        const buttonEl =\n",
              "          document.querySelector('#df-61a6f1b8-1981-4356-9eb8-093e75ec5788 button.colab-df-convert');\n",
              "        buttonEl.style.display =\n",
              "          google.colab.kernel.accessAllowed ? 'block' : 'none';\n",
              "\n",
              "        async function convertToInteractive(key) {\n",
              "          const element = document.querySelector('#df-61a6f1b8-1981-4356-9eb8-093e75ec5788');\n",
              "          const dataTable =\n",
              "            await google.colab.kernel.invokeFunction('convertToInteractive',\n",
              "                                                     [key], {});\n",
              "          if (!dataTable) return;\n",
              "\n",
              "          const docLinkHtml = 'Like what you see? Visit the ' +\n",
              "            '<a target=\"_blank\" href=https://colab.research.google.com/notebooks/data_table.ipynb>data table notebook</a>'\n",
              "            + ' to learn more about interactive tables.';\n",
              "          element.innerHTML = '';\n",
              "          dataTable['output_type'] = 'display_data';\n",
              "          await google.colab.output.renderOutput(dataTable, element);\n",
              "          const docLink = document.createElement('div');\n",
              "          docLink.innerHTML = docLinkHtml;\n",
              "          element.appendChild(docLink);\n",
              "        }\n",
              "      </script>\n",
              "    </div>\n",
              "  </div>\n",
              "  "
            ],
            "text/plain": [
              "How many siblings do you have?                 0     1     2         3    5\n",
              "General: Where are you living this quarter?                                \n",
              "In SLO                                       0.2  0.64  0.65  0.333333  0.0\n",
              "Outside SLO                                  0.8  0.36  0.35  0.666667  1.0"
            ]
          },
          "metadata": {},
          "execution_count": 9
        }
      ]
    },
    {
      "cell_type": "code",
      "source": [
        "cond_inout.T.plot.bar(stacked=True)"
      ],
      "metadata": {
        "colab": {
          "base_uri": "https://localhost:8080/",
          "height": 293
        },
        "id": "S1dCASjIlnp3",
        "outputId": "c4ea6e49-57dd-435b-a014-170152f4a01d"
      },
      "execution_count": 25,
      "outputs": [
        {
          "output_type": "execute_result",
          "data": {
            "text/plain": [
              "<matplotlib.axes._subplots.AxesSubplot at 0x7f91d4a0e590>"
            ]
          },
          "metadata": {},
          "execution_count": 25
        },
        {
          "output_type": "display_data",
          "data": {
            "image/png": "[encoded data removed]",
            "text/plain": [
              "<Figure size 432x288 with 1 Axes>"
            ]
          },
          "metadata": {
            "needs_background": "light"
          }
        }
      ]
    },
    {
      "cell_type": "markdown",
      "metadata": {
        "id": "xS8tUCb8c8kQ"
      },
      "source": [
        "Based on the data, it seems that the probability a student will live off of campus follows a bell as the number of siblings increase. With low numbers like 0, the probability of off-campus housing is high. With an average of siblings (1-3), the probability decreases, then as sibling number grows to 5, the probability increases once more. This suggests that those with no sibilings and those with an above avaerage number are more likely to live off campus."
      ]
    },
    {
      "cell_type": "markdown",
      "metadata": {
        "id": "OWml6cxtc8kR"
      },
      "source": [
        "## Question 3\n",
        "\n",
        "You were asked to guess how many golf balls fit into a standard-sized school bus.  This is actually a famous Google interview question!  The best answer I could find online is [here](https://www.quora.com/How-many-golf-balls-can-fit-into-a-school-bus).\n",
        "\n",
        "How did the different subgroups in the class do on this question?  That is, can you find an interesting relationship between the golf ball numbers guess and any of the other variables in this dataset?\n",
        "\n",
        "(_Hint:_ There are many reasonable approaches to this problem. You will get full credit for any reasonable approach, as long as you carefully justify it.)"
      ]
    },
    {
      "cell_type": "code",
      "source": [
        "df_class.value_counts()"
      ],
      "metadata": {
        "colab": {
          "base_uri": "https://localhost:8080/"
        },
        "id": "s6hqg4qiqFuG",
        "outputId": "10633618-4a31-443c-fe75-6327ffaa9ea2"
      },
      "execution_count": 11,
      "outputs": [
        {
          "output_type": "execute_result",
          "data": {
            "text/plain": [
              "What is your major?  Where are you living this quarter?  How many siblings do you have?  What is your favorite color?  What is a cool TV show, movie, or book that you liked in 2020?                         Suppose you wanted to fill an average-sized school bus entirely with golf balls.  How many golf balls do you think you would need?  Do you consider yourself a sports fan?  Do you enjoy video games?  Do you consider yourself artistic?  General Color  General: Where are you living this quarter?\n",
              "Statistics           On-Campus housing                   2                               Red                           Parasite                                                                               1.200000e+05                                                                                                                        No                                      Yes                        No                                  Red            In SLO                                         1\n",
              "Computer Science     Off Campus, outside of SLO          0                               blue                          start up                                                                               1.700000e+07                                                                                                                        Yes                                     Yes                        No                                  Blue           Outside SLO                                    1\n",
              "                                                         3                               Royal Blue                    Moonwalking with Einstein                                                              1.000000e+04                                                                                                                        Yes                                     Yes                        No                                  Blue           Outside SLO                                    1\n",
              "                                                                                         Green                         The Social Dilemma                                                                     2.500000e+05                                                                                                                        Yes                                     Yes                        No                                  Green          Outside SLO                                    1\n",
              "                                                         2                               grey                          The Mandolorian                                                                        2.000000e+04                                                                                                                        Yes                                     Yes                        No                                  Grey/Gray      Outside SLO                                    1\n",
              "                                                                                         black                         The Guest List                                                                         6.600000e+05                                                                                                                        No                                      Yes                        No                                  Black          Outside SLO                                    1\n",
              "                                                                                         Blue                          The Red Rising saga! (Book series)                                                     1.000000e+04                                                                                                                        No                                      Yes                        No                                  Blue           Outside SLO                                    1\n",
              "                                                                                                                       New Girl                                                                               5.000000e+05                                                                                                                        Yes                                     Yes                        No                                  Blue           Outside SLO                                    1\n",
              "                                                                                                                       Avatar                                                                                 2.000000e+05                                                                                                                        No                                      Yes                        No                                  Blue           Outside SLO                                    1\n",
              "                                                         1                               light pink                    Money Heist                                                                            1.000000e+06                                                                                                                        No                                      Yes                        Yes                                 Pink           Outside SLO                                    1\n",
              "                                                                                         Red                           Queen's Gambit                                                                         6.738210e+05                                                                                                                        Yes                                     Yes                        No                                  Red            Outside SLO                                    1\n",
              "                                                                                         Navy                          Inside World's Toughest Prisons                                                        2.500000e+05                                                                                                                        No                                      Yes                        No                                  navy           Outside SLO                                    1\n",
              "                                                                                         Forest Green                  Avatar The Last Airbender                                                              2.000000e+04                                                                                                                        No                                      Yes                        Yes                                 Green          Outside SLO                                    1\n",
              "                                                                                         Blue/Indigo                   Peaky Blinders                                                                         1.000000e+05                                                                                                                        Yes                                     Yes                        No                                  Blue           Outside SLO                                    1\n",
              "                                                         0                               Green                         The Mandalorian                                                                        3.500000e+05                                                                                                                        No                                      Yes                        No                                  Green          Outside SLO                                    1\n",
              "Statistics           Off Campus, outside of SLO          5                               green                         A Gentleman in Moscow                                                                  9.300000e+05                                                                                                                        No                                      No                         No                                  Green          Outside SLO                                    1\n",
              "Computer Science     Off Campus, outside of SLO          0                               Gray                          Tenet                                                                                  1.000000e+04                                                                                                                        Yes                                     Yes                        No                                  Grey/Gray      Outside SLO                                    1\n",
              "                     Off Campus, but in SLO              3                               Pink                          Sweet home                                                                             8.000000e+05                                                                                                                        No                                      Yes                        No                                  Pink           In SLO                                         1\n",
              "                                                         2                               navy blue                     cobra kai                                                                              2.896000e+04                                                                                                                        No                                      Yes                        Yes                                 Blue           In SLO                                         1\n",
              "                                                                                         blue                          Tiger King                                                                             5.000000e+04                                                                                                                        Yes                                     No                         No                                  Blue           In SLO                                         1\n",
              "                                                                                                                       Crescent City by Sarah J Maas                                                          1.000000e+07                                                                                                                        Yes                                     No                         Yes                                 Blue           In SLO                                         1\n",
              "                                                                                         Teal                          Alice In Borderlands                                                                   1.000000e+04                                                                                                                        Yes                                     Yes                        No                                  teal           In SLO                                         1\n",
              "                                                                                         Red                           Fargo (TV Show, but the movie of the same name is excellent as well)                   3.500000e+06                                                                                                                        Yes                                     No                         Yes                                 Red            In SLO                                         1\n",
              "                                                         1                               turquoise                     Man from UNCLE                                                                         6.236280e+05                                                                                                                        No                                      Yes                        Yes                                 turquoise      In SLO                                         1\n",
              "                                                                                         purple                        The Queen's Gambit                                                                     1.000000e+06                                                                                                                        Yes                                     Yes                        No                                  Purple         In SLO                                         1\n",
              "                                                                                         Red                           The Boys                                                                               6.683642e+05                                                                                                                        Yes                                     Yes                        No                                  Red            In SLO                                         1\n",
              "                                                                                         Blue                          Marvel Series, I watched about 18 of the movies in 4 days                              5.000000e+03                                                                                                                        No                                      Yes                        Yes                                 Blue           In SLO                                         1\n",
              "                                                                                                                       Home Alone                                                                             1.500000e+04                                                                                                                        No                                      Yes                        Yes                                 Blue           In SLO                                         1\n",
              "                     Off Campus, outside of SLO          5                               Pink                          The Queen's Gambit                                                                     4.000010e+05                                                                                                                        No                                      Yes                        No                                  Pink           Outside SLO                                    1\n",
              "                     On-Campus housing                   2                               purple                        That '70s Show                                                                         9.800000e+05                                                                                                                        Yes                                     No                         No                                  Purple         In SLO                                         1\n",
              "Other                Off Campus, but in SLO              1                               Blue and Black                Ozark!                                                                                 1.000000e+05                                                                                                                        No                                      Yes                        No                                  Blue           In SLO                                         1\n",
              "                                                                                         Green                         Soul                                                                                   1.250000e+06                                                                                                                        No                                      Yes                        No                                  Green          In SLO                                         1\n",
              "Statistics           Off Campus, outside of SLO          2                               Magenta                       Knives Out                                                                             5.750000e+05                                                                                                                        No                                      Yes                        No                                  magenta        Outside SLO                                    1\n",
              "                                                         1                               Purple                        Wolf Children                                                                          9.200000e+03                                                                                                                        No                                      No                         No                                  Purple         Outside SLO                                    1\n",
              "                     Off Campus, but in SLO              3                               Blue                          Cobra Kai                                                                              1.200000e+04                                                                                                                        Yes                                     Yes                        No                                  Blue           In SLO                                         1\n",
              "                                                         2                               green                         schitt's creek                                                                         6.500000e+03                                                                                                                        Yes                                     Yes                        Yes                                 Green          In SLO                                         1\n",
              "                                                                                         blue                          The Queen's Gambit                                                                     2.000000e+05                                                                                                                        Yes                                     No                         Yes                                 Blue           In SLO                                         1\n",
              "                                                                                         Purple                        The Mandalorian                                                                        6.250000e+05                                                                                                                        No                                      No                         Yes                                 Purple         In SLO                                         1\n",
              "                                                                                         Blue                          The Mandalorian                                                                        2.000000e+06                                                                                                                        Yes                                     Yes                        No                                  Blue           In SLO                                         1\n",
              "                                                         1                               purple                        Legend Of Korra                                                                        3.200000e+04                                                                                                                        No                                      Yes                        No                                  Purple         In SLO                                         1\n",
              "                                                                                         pink                          Soul                                                                                   1.000000e+05                                                                                                                        No                                      No                         No                                  Pink           In SLO                                         1\n",
              "                                                                                         dark green                    \"The Boys\" on Amazon Prime                                                             5.000000e+05                                                                                                                        No                                      Yes                        Yes                                 Green          In SLO                                         1\n",
              "                                                                                         blue                          Queen's Gambit                                                                         1.083623e+06                                                                                                                        Yes                                     Yes                        Yes                                 Blue           In SLO                                         1\n",
              "                                                                                         Green                         Succession                                                                             1.000000e+06                                                                                                                        No                                      Yes                        No                                  Green          In SLO                                         1\n",
              "                                                         0                               red                           Queen's Gambit                                                                         1.000000e+04                                                                                                                        No                                      Yes                        Yes                                 Red            In SLO                                         1\n",
              "Other                Off Campus, outside of SLO          3                               Blue                          The Name of the Wind                                                                   3.000000e+04                                                                                                                        Yes                                     Yes                        No                                  Blue           Outside SLO                                    1\n",
              "                                                         2                               Green                         The Institute by Stephen King                                                          4.000000e+05                                                                                                                        No                                      No                         Yes                                 Green          Outside SLO                                    1\n",
              "                                                         1                               Orange and Blue               The Good Place!                                                                        2.500000e+03                                                                                                                        Yes                                     Yes                        No                                  Blue           Outside SLO                                    1\n",
              "                                                                                         Green                         Men Without Women by Haruki Murakami                                                   7.856000e+03                                                                                                                        Yes                                     Yes                        Yes                                 Green          Outside SLO                                    1\n",
              "                                                                                         Black                         Tenet                                                                                  6.250000e+05                                                                                                                        No                                      Yes                        Yes                                 Black          Outside SLO                                    1\n",
              "                                                         0                               Blue                          Cobra Kai                                                                              5.000000e+05                                                                                                                        Yes                                     Yes                        Yes                                 Blue           Outside SLO                                    1\n",
              "                     Off Campus, but in SLO              2                               green                         Breaking Bad                                                                           5.000000e+03                                                                                                                        No                                      No                         No                                  Green          In SLO                                         1\n",
              "                                                                                         Light Blue                    Criminal Minds                                                                         5.000000e+05                                                                                                                        No                                      Yes                        Yes                                 Blue           In SLO                                         1\n",
              "                                                         1                               red                           Into Thin Air by Jon Krakauer                                                          1.000000e+04                                                                                                                        Yes                                     No                         No                                  Red            In SLO                                         1\n",
              "                                                                                         blue                          The Undoing                                                                            9.000000e+03                                                                                                                        No                                      No                         Yes                                 Blue           In SLO                                         1\n",
              "                                                                                                                       Breaking Bad                                                                           5.000000e+03                                                                                                                        Yes                                     Yes                        Yes                                 Blue           In SLO                                         1\n",
              "                                                                                         Purple                        A pretty good but very dramatic show was How to Get Away with Murder, I enjoyed that.  6.000000e+06                                                                                                                        No                                      Yes                        Yes                                 Purple         In SLO                                         1\n",
              "Computer Science                                         3                               Blue                          The Invisible Man                                                                      3.888000e+05                                                                                                                        Yes                                     Yes                        Yes                                 Blue           Outside SLO                                    1\n",
              "dtype: int64"
            ]
          },
          "metadata": {},
          "execution_count": 11
        }
      ]
    },
    {
      "cell_type": "code",
      "metadata": {
        "id": "JTnwnsjZc8kS",
        "colab": {
          "base_uri": "https://localhost:8080/",
          "height": 476
        },
        "outputId": "7fa8b814-0718-4729-99a8-1548356f89f5"
      },
      "source": [
        "def golf_range(c):\n",
        "  if c <= 10000:\n",
        "    return \"Less than or equal to 10,000\"\n",
        "  elif c <= 100000:\n",
        "    return \"Between 10,001 and 100,000\"\n",
        "  elif c <= 500000:\n",
        "    return \"Between 100,001 and 500,000\"\n",
        "  elif c <= 1000000:\n",
        "    return \"Between 500,001 and 1,000,000\"\n",
        "  elif c <= 5000000:\n",
        "    return \"Between 1,000,001 and 5,000,000\"\n",
        "  else:\n",
        "    return \"More than 5,000,000\"\n",
        "\n",
        "df_class[\"Golf Range\"] = df_class[\"Suppose you wanted to fill an average-sized school bus entirely with golf balls.  How many golf balls do you think you would need?\"].map(golf_range)\n",
        "df_class.head()"
      ],
      "execution_count": 12,
      "outputs": [
        {
          "output_type": "execute_result",
          "data": {
            "text/html": [
              "\n",
              "  <div id=\"df-961106ee-ff9a-416c-8e52-334f61e0f5bd\">\n",
              "    <div class=\"colab-df-container\">\n",
              "      <div>\n",
              "<style scoped>\n",
              "    .dataframe tbody tr th:only-of-type {\n",
              "        vertical-align: middle;\n",
              "    }\n",
              "\n",
              "    .dataframe tbody tr th {\n",
              "        vertical-align: top;\n",
              "    }\n",
              "\n",
              "    .dataframe thead th {\n",
              "        text-align: right;\n",
              "    }\n",
              "</style>\n",
              "<table border=\"1\" class=\"dataframe\">\n",
              "  <thead>\n",
              "    <tr style=\"text-align: right;\">\n",
              "      <th></th>\n",
              "      <th>What is your major?</th>\n",
              "      <th>Where are you living this quarter?</th>\n",
              "      <th>How many siblings do you have?</th>\n",
              "      <th>What is your favorite color?</th>\n",
              "      <th>What is a cool TV show, movie, or book that you liked in 2020?</th>\n",
              "      <th>Suppose you wanted to fill an average-sized school bus entirely with golf balls.  How many golf balls do you think you would need?</th>\n",
              "      <th>Do you consider yourself a sports fan?</th>\n",
              "      <th>Do you enjoy video games?</th>\n",
              "      <th>Do you consider yourself artistic?</th>\n",
              "      <th>General Color</th>\n",
              "      <th>General: Where are you living this quarter?</th>\n",
              "      <th>Golf Range</th>\n",
              "    </tr>\n",
              "  </thead>\n",
              "  <tbody>\n",
              "    <tr>\n",
              "      <th>0</th>\n",
              "      <td>Other</td>\n",
              "      <td>Off Campus, but in SLO</td>\n",
              "      <td>2</td>\n",
              "      <td>Light Blue</td>\n",
              "      <td>Criminal Minds</td>\n",
              "      <td>500000.0</td>\n",
              "      <td>No</td>\n",
              "      <td>Yes</td>\n",
              "      <td>Yes</td>\n",
              "      <td>Blue</td>\n",
              "      <td>In SLO</td>\n",
              "      <td>Between 100,001 and 500,000</td>\n",
              "    </tr>\n",
              "    <tr>\n",
              "      <th>1</th>\n",
              "      <td>Statistics</td>\n",
              "      <td>Off Campus, outside of SLO</td>\n",
              "      <td>5</td>\n",
              "      <td>green</td>\n",
              "      <td>A Gentleman in Moscow</td>\n",
              "      <td>930000.0</td>\n",
              "      <td>No</td>\n",
              "      <td>No</td>\n",
              "      <td>No</td>\n",
              "      <td>Green</td>\n",
              "      <td>Outside SLO</td>\n",
              "      <td>Between 500,001 and 1,000,000</td>\n",
              "    </tr>\n",
              "    <tr>\n",
              "      <th>2</th>\n",
              "      <td>Computer Science</td>\n",
              "      <td>Off Campus, but in SLO</td>\n",
              "      <td>2</td>\n",
              "      <td>blue</td>\n",
              "      <td>Crescent City by Sarah J Maas</td>\n",
              "      <td>10000000.0</td>\n",
              "      <td>Yes</td>\n",
              "      <td>No</td>\n",
              "      <td>Yes</td>\n",
              "      <td>Blue</td>\n",
              "      <td>In SLO</td>\n",
              "      <td>More than 5,000,000</td>\n",
              "    </tr>\n",
              "    <tr>\n",
              "      <th>3</th>\n",
              "      <td>Other</td>\n",
              "      <td>Off Campus, outside of SLO</td>\n",
              "      <td>2</td>\n",
              "      <td>Green</td>\n",
              "      <td>The Institute by Stephen King</td>\n",
              "      <td>400000.0</td>\n",
              "      <td>No</td>\n",
              "      <td>No</td>\n",
              "      <td>Yes</td>\n",
              "      <td>Green</td>\n",
              "      <td>Outside SLO</td>\n",
              "      <td>Between 100,001 and 500,000</td>\n",
              "    </tr>\n",
              "    <tr>\n",
              "      <th>4</th>\n",
              "      <td>Computer Science</td>\n",
              "      <td>Off Campus, outside of SLO</td>\n",
              "      <td>1</td>\n",
              "      <td>Blue/Indigo</td>\n",
              "      <td>Peaky Blinders</td>\n",
              "      <td>100000.0</td>\n",
              "      <td>Yes</td>\n",
              "      <td>Yes</td>\n",
              "      <td>No</td>\n",
              "      <td>Blue</td>\n",
              "      <td>Outside SLO</td>\n",
              "      <td>Between 10,001 and 100,000</td>\n",
              "    </tr>\n",
              "  </tbody>\n",
              "</table>\n",
              "</div>\n",
              "      <button class=\"colab-df-convert\" onclick=\"convertToInteractive('df-961106ee-ff9a-416c-8e52-334f61e0f5bd')\"\n",
              "              title=\"Convert this dataframe to an interactive table.\"\n",
              "              style=\"display:none;\">\n",
              "        \n",
              "  <svg xmlns=\"http://www.w3.org/2000/svg\" height=\"24px\"viewBox=\"0 0 24 24\"\n",
              "       width=\"24px\">\n",
              "    <path d=\"M0 0h24v24H0V0z\" fill=\"none\"/>\n",
              "    <path d=\"M18.56 5.44l.94 2.06.94-2.06 2.06-.94-2.06-.94-.94-2.06-.94 2.06-2.06.94zm-11 1L8.5 8.5l.94-2.06 2.06-.94-2.06-.94L8.5 2.5l-.94 2.06-2.06.94zm10 10l.94 2.06.94-2.06 2.06-.94-2.06-.94-.94-2.06-.94 2.06-2.06.94z\"/><path d=\"M17.41 7.96l-1.37-1.37c-.4-.4-.92-.59-1.43-.59-.52 0-1.04.2-1.43.59L10.3 9.45l-7.72 7.72c-.78.78-.78 2.05 0 2.83L4 21.41c.39.39.9.59 1.41.59.51 0 1.02-.2 1.41-.59l7.78-7.78 2.81-2.81c.8-.78.8-2.07 0-2.86zM5.41 20L4 18.59l7.72-7.72 1.47 1.35L5.41 20z\"/>\n",
              "  </svg>\n",
              "      </button>\n",
              "      \n",
              "  <style>\n",
              "    .colab-df-container {\n",
              "      display:flex;\n",
              "      flex-wrap:wrap;\n",
              "      gap: 12px;\n",
              "    }\n",
              "\n",
              "    .colab-df-convert {\n",
              "      background-color: #E8F0FE;\n",
              "      border: none;\n",
              "      border-radius: 50%;\n",
              "      cursor: pointer;\n",
              "      display: none;\n",
              "      fill: #1967D2;\n",
              "      height: 32px;\n",
              "      padding: 0 0 0 0;\n",
              "      width: 32px;\n",
              "    }\n",
              "\n",
              "    .colab-df-convert:hover {\n",
              "      background-color: #E2EBFA;\n",
              "      box-shadow: 0px 1px 2px rgba(60, 64, 67, 0.3), 0px 1px 3px 1px rgba(60, 64, 67, 0.15);\n",
              "      fill: #174EA6;\n",
              "    }\n",
              "\n",
              "    [theme=dark] .colab-df-convert {\n",
              "      background-color: #3B4455;\n",
              "      fill: #D2E3FC;\n",
              "    }\n",
              "\n",
              "    [theme=dark] .colab-df-convert:hover {\n",
              "      background-color: #434B5C;\n",
              "      box-shadow: 0px 1px 3px 1px rgba(0, 0, 0, 0.15);\n",
              "      filter: drop-shadow(0px 1px 2px rgba(0, 0, 0, 0.3));\n",
              "      fill: #FFFFFF;\n",
              "    }\n",
              "  </style>\n",
              "\n",
              "      <script>\n",
              "        const buttonEl =\n",
              "          document.querySelector('#df-961106ee-ff9a-416c-8e52-334f61e0f5bd button.colab-df-convert');\n",
              "        buttonEl.style.display =\n",
              "          google.colab.kernel.accessAllowed ? 'block' : 'none';\n",
              "\n",
              "        async function convertToInteractive(key) {\n",
              "          const element = document.querySelector('#df-961106ee-ff9a-416c-8e52-334f61e0f5bd');\n",
              "          const dataTable =\n",
              "            await google.colab.kernel.invokeFunction('convertToInteractive',\n",
              "                                                     [key], {});\n",
              "          if (!dataTable) return;\n",
              "\n",
              "          const docLinkHtml = 'Like what you see? Visit the ' +\n",
              "            '<a target=\"_blank\" href=https://colab.research.google.com/notebooks/data_table.ipynb>data table notebook</a>'\n",
              "            + ' to learn more about interactive tables.';\n",
              "          element.innerHTML = '';\n",
              "          dataTable['output_type'] = 'display_data';\n",
              "          await google.colab.output.renderOutput(dataTable, element);\n",
              "          const docLink = document.createElement('div');\n",
              "          docLink.innerHTML = docLinkHtml;\n",
              "          element.appendChild(docLink);\n",
              "        }\n",
              "      </script>\n",
              "    </div>\n",
              "  </div>\n",
              "  "
            ],
            "text/plain": [
              "  What is your major?  ...                     Golf Range\n",
              "0               Other  ...    Between 100,001 and 500,000\n",
              "1          Statistics  ...  Between 500,001 and 1,000,000\n",
              "2    Computer Science  ...            More than 5,000,000\n",
              "3               Other  ...    Between 100,001 and 500,000\n",
              "4    Computer Science  ...     Between 10,001 and 100,000\n",
              "\n",
              "[5 rows x 12 columns]"
            ]
          },
          "metadata": {},
          "execution_count": 12
        }
      ]
    },
    {
      "cell_type": "code",
      "source": [
        "joint_maj_golf = pd.crosstab(df_class[\"What is your major?\"],df_class[\"Golf Range\"], normalize=True)\n",
        "joint_maj_golf"
      ],
      "metadata": {
        "colab": {
          "base_uri": "https://localhost:8080/",
          "height": 253
        },
        "id": "44i-CyuRqvrT",
        "outputId": "f2046531-d8ae-4b10-8f60-b900ae237adb"
      },
      "execution_count": 13,
      "outputs": [
        {
          "output_type": "execute_result",
          "data": {
            "text/html": [
              "\n",
              "  <div id=\"df-eb30a54c-98d4-48b9-aca3-dc1908993649\">\n",
              "    <div class=\"colab-df-container\">\n",
              "      <div>\n",
              "<style scoped>\n",
              "    .dataframe tbody tr th:only-of-type {\n",
              "        vertical-align: middle;\n",
              "    }\n",
              "\n",
              "    .dataframe tbody tr th {\n",
              "        vertical-align: top;\n",
              "    }\n",
              "\n",
              "    .dataframe thead th {\n",
              "        text-align: right;\n",
              "    }\n",
              "</style>\n",
              "<table border=\"1\" class=\"dataframe\">\n",
              "  <thead>\n",
              "    <tr style=\"text-align: right;\">\n",
              "      <th>Golf Range</th>\n",
              "      <th>Between 1,000,001 and 5,000,000</th>\n",
              "      <th>Between 10,001 and 100,000</th>\n",
              "      <th>Between 100,001 and 500,000</th>\n",
              "      <th>Between 500,001 and 1,000,000</th>\n",
              "      <th>Less than or equal to 10,000</th>\n",
              "      <th>More than 5,000,000</th>\n",
              "    </tr>\n",
              "    <tr>\n",
              "      <th>What is your major?</th>\n",
              "      <th></th>\n",
              "      <th></th>\n",
              "      <th></th>\n",
              "      <th></th>\n",
              "      <th></th>\n",
              "      <th></th>\n",
              "    </tr>\n",
              "  </thead>\n",
              "  <tbody>\n",
              "    <tr>\n",
              "      <th>Computer Science</th>\n",
              "      <td>0.017241</td>\n",
              "      <td>0.103448</td>\n",
              "      <td>0.120690</td>\n",
              "      <td>0.137931</td>\n",
              "      <td>0.086207</td>\n",
              "      <td>0.034483</td>\n",
              "    </tr>\n",
              "    <tr>\n",
              "      <th>Other</th>\n",
              "      <td>0.017241</td>\n",
              "      <td>0.034483</td>\n",
              "      <td>0.051724</td>\n",
              "      <td>0.017241</td>\n",
              "      <td>0.103448</td>\n",
              "      <td>0.017241</td>\n",
              "    </tr>\n",
              "    <tr>\n",
              "      <th>Statistics</th>\n",
              "      <td>0.034483</td>\n",
              "      <td>0.051724</td>\n",
              "      <td>0.051724</td>\n",
              "      <td>0.068966</td>\n",
              "      <td>0.051724</td>\n",
              "      <td>0.000000</td>\n",
              "    </tr>\n",
              "  </tbody>\n",
              "</table>\n",
              "</div>\n",
              "      <button class=\"colab-df-convert\" onclick=\"convertToInteractive('df-eb30a54c-98d4-48b9-aca3-dc1908993649')\"\n",
              "              title=\"Convert this dataframe to an interactive table.\"\n",
              "              style=\"display:none;\">\n",
              "        \n",
              "  <svg xmlns=\"http://www.w3.org/2000/svg\" height=\"24px\"viewBox=\"0 0 24 24\"\n",
              "       width=\"24px\">\n",
              "    <path d=\"M0 0h24v24H0V0z\" fill=\"none\"/>\n",
              "    <path d=\"M18.56 5.44l.94 2.06.94-2.06 2.06-.94-2.06-.94-.94-2.06-.94 2.06-2.06.94zm-11 1L8.5 8.5l.94-2.06 2.06-.94-2.06-.94L8.5 2.5l-.94 2.06-2.06.94zm10 10l.94 2.06.94-2.06 2.06-.94-2.06-.94-.94-2.06-.94 2.06-2.06.94z\"/><path d=\"M17.41 7.96l-1.37-1.37c-.4-.4-.92-.59-1.43-.59-.52 0-1.04.2-1.43.59L10.3 9.45l-7.72 7.72c-.78.78-.78 2.05 0 2.83L4 21.41c.39.39.9.59 1.41.59.51 0 1.02-.2 1.41-.59l7.78-7.78 2.81-2.81c.8-.78.8-2.07 0-2.86zM5.41 20L4 18.59l7.72-7.72 1.47 1.35L5.41 20z\"/>\n",
              "  </svg>\n",
              "      </button>\n",
              "      \n",
              "  <style>\n",
              "    .colab-df-container {\n",
              "      display:flex;\n",
              "      flex-wrap:wrap;\n",
              "      gap: 12px;\n",
              "    }\n",
              "\n",
              "    .colab-df-convert {\n",
              "      background-color: #E8F0FE;\n",
              "      border: none;\n",
              "      border-radius: 50%;\n",
              "      cursor: pointer;\n",
              "      display: none;\n",
              "      fill: #1967D2;\n",
              "      height: 32px;\n",
              "      padding: 0 0 0 0;\n",
              "      width: 32px;\n",
              "    }\n",
              "\n",
              "    .colab-df-convert:hover {\n",
              "      background-color: #E2EBFA;\n",
              "      box-shadow: 0px 1px 2px rgba(60, 64, 67, 0.3), 0px 1px 3px 1px rgba(60, 64, 67, 0.15);\n",
              "      fill: #174EA6;\n",
              "    }\n",
              "\n",
              "    [theme=dark] .colab-df-convert {\n",
              "      background-color: #3B4455;\n",
              "      fill: #D2E3FC;\n",
              "    }\n",
              "\n",
              "    [theme=dark] .colab-df-convert:hover {\n",
              "      background-color: #434B5C;\n",
              "      box-shadow: 0px 1px 3px 1px rgba(0, 0, 0, 0.15);\n",
              "      filter: drop-shadow(0px 1px 2px rgba(0, 0, 0, 0.3));\n",
              "      fill: #FFFFFF;\n",
              "    }\n",
              "  </style>\n",
              "\n",
              "      <script>\n",
              "        const buttonEl =\n",
              "          document.querySelector('#df-eb30a54c-98d4-48b9-aca3-dc1908993649 button.colab-df-convert');\n",
              "        buttonEl.style.display =\n",
              "          google.colab.kernel.accessAllowed ? 'block' : 'none';\n",
              "\n",
              "        async function convertToInteractive(key) {\n",
              "          const element = document.querySelector('#df-eb30a54c-98d4-48b9-aca3-dc1908993649');\n",
              "          const dataTable =\n",
              "            await google.colab.kernel.invokeFunction('convertToInteractive',\n",
              "                                                     [key], {});\n",
              "          if (!dataTable) return;\n",
              "\n",
              "          const docLinkHtml = 'Like what you see? Visit the ' +\n",
              "            '<a target=\"_blank\" href=https://colab.research.google.com/notebooks/data_table.ipynb>data table notebook</a>'\n",
              "            + ' to learn more about interactive tables.';\n",
              "          element.innerHTML = '';\n",
              "          dataTable['output_type'] = 'display_data';\n",
              "          await google.colab.output.renderOutput(dataTable, element);\n",
              "          const docLink = document.createElement('div');\n",
              "          docLink.innerHTML = docLinkHtml;\n",
              "          element.appendChild(docLink);\n",
              "        }\n",
              "      </script>\n",
              "    </div>\n",
              "  </div>\n",
              "  "
            ],
            "text/plain": [
              "Golf Range           Between 1,000,001 and 5,000,000  ...  More than 5,000,000\n",
              "What is your major?                                   ...                     \n",
              "Computer Science                            0.017241  ...             0.034483\n",
              "Other                                       0.017241  ...             0.017241\n",
              "Statistics                                  0.034483  ...             0.000000\n",
              "\n",
              "[3 rows x 6 columns]"
            ]
          },
          "metadata": {},
          "execution_count": 13
        }
      ]
    },
    {
      "cell_type": "code",
      "source": [
        "majgolf_dist = joint_maj_golf.sum(axis=0) \n",
        "majgolf_dist\n",
        "# axis = 0 adds columns; axis = 1 adds rows\n"
      ],
      "metadata": {
        "colab": {
          "base_uri": "https://localhost:8080/"
        },
        "id": "TlOovxDrrI6_",
        "outputId": "e4c8df13-5f27-4107-8acd-dfb4cce76b6f"
      },
      "execution_count": 14,
      "outputs": [
        {
          "output_type": "execute_result",
          "data": {
            "text/plain": [
              "Golf Range\n",
              "Between 1,000,001 and 5,000,000    0.068966\n",
              "Between 10,001 and 100,000         0.189655\n",
              "Between 100,001 and 500,000        0.224138\n",
              "Between 500,001 and 1,000,000      0.224138\n",
              "Less than or equal to 10,000       0.241379\n",
              "More than 5,000,000                0.051724\n",
              "dtype: float64"
            ]
          },
          "metadata": {},
          "execution_count": 14
        }
      ]
    },
    {
      "cell_type": "code",
      "source": [
        "cond_mg = joint_maj_golf.divide(majgolf_dist, axis=1)\n",
        "cond_mg"
      ],
      "metadata": {
        "colab": {
          "base_uri": "https://localhost:8080/",
          "height": 253
        },
        "id": "D104-oZePLZq",
        "outputId": "02645f74-200c-4956-aa95-7bfdf38e46c1"
      },
      "execution_count": 15,
      "outputs": [
        {
          "output_type": "execute_result",
          "data": {
            "text/html": [
              "\n",
              "  <div id=\"df-1439c635-2dcf-4a54-af96-a22f3eb60790\">\n",
              "    <div class=\"colab-df-container\">\n",
              "      <div>\n",
              "<style scoped>\n",
              "    .dataframe tbody tr th:only-of-type {\n",
              "        vertical-align: middle;\n",
              "    }\n",
              "\n",
              "    .dataframe tbody tr th {\n",
              "        vertical-align: top;\n",
              "    }\n",
              "\n",
              "    .dataframe thead th {\n",
              "        text-align: right;\n",
              "    }\n",
              "</style>\n",
              "<table border=\"1\" class=\"dataframe\">\n",
              "  <thead>\n",
              "    <tr style=\"text-align: right;\">\n",
              "      <th>Golf Range</th>\n",
              "      <th>Between 1,000,001 and 5,000,000</th>\n",
              "      <th>Between 10,001 and 100,000</th>\n",
              "      <th>Between 100,001 and 500,000</th>\n",
              "      <th>Between 500,001 and 1,000,000</th>\n",
              "      <th>Less than or equal to 10,000</th>\n",
              "      <th>More than 5,000,000</th>\n",
              "    </tr>\n",
              "    <tr>\n",
              "      <th>What is your major?</th>\n",
              "      <th></th>\n",
              "      <th></th>\n",
              "      <th></th>\n",
              "      <th></th>\n",
              "      <th></th>\n",
              "      <th></th>\n",
              "    </tr>\n",
              "  </thead>\n",
              "  <tbody>\n",
              "    <tr>\n",
              "      <th>Computer Science</th>\n",
              "      <td>0.25</td>\n",
              "      <td>0.545455</td>\n",
              "      <td>0.538462</td>\n",
              "      <td>0.615385</td>\n",
              "      <td>0.357143</td>\n",
              "      <td>0.666667</td>\n",
              "    </tr>\n",
              "    <tr>\n",
              "      <th>Other</th>\n",
              "      <td>0.25</td>\n",
              "      <td>0.181818</td>\n",
              "      <td>0.230769</td>\n",
              "      <td>0.076923</td>\n",
              "      <td>0.428571</td>\n",
              "      <td>0.333333</td>\n",
              "    </tr>\n",
              "    <tr>\n",
              "      <th>Statistics</th>\n",
              "      <td>0.50</td>\n",
              "      <td>0.272727</td>\n",
              "      <td>0.230769</td>\n",
              "      <td>0.307692</td>\n",
              "      <td>0.214286</td>\n",
              "      <td>0.000000</td>\n",
              "    </tr>\n",
              "  </tbody>\n",
              "</table>\n",
              "</div>\n",
              "      <button class=\"colab-df-convert\" onclick=\"convertToInteractive('df-1439c635-2dcf-4a54-af96-a22f3eb60790')\"\n",
              "              title=\"Convert this dataframe to an interactive table.\"\n",
              "              style=\"display:none;\">\n",
              "        \n",
              "  <svg xmlns=\"http://www.w3.org/2000/svg\" height=\"24px\"viewBox=\"0 0 24 24\"\n",
              "       width=\"24px\">\n",
              "    <path d=\"M0 0h24v24H0V0z\" fill=\"none\"/>\n",
              "    <path d=\"M18.56 5.44l.94 2.06.94-2.06 2.06-.94-2.06-.94-.94-2.06-.94 2.06-2.06.94zm-11 1L8.5 8.5l.94-2.06 2.06-.94-2.06-.94L8.5 2.5l-.94 2.06-2.06.94zm10 10l.94 2.06.94-2.06 2.06-.94-2.06-.94-.94-2.06-.94 2.06-2.06.94z\"/><path d=\"M17.41 7.96l-1.37-1.37c-.4-.4-.92-.59-1.43-.59-.52 0-1.04.2-1.43.59L10.3 9.45l-7.72 7.72c-.78.78-.78 2.05 0 2.83L4 21.41c.39.39.9.59 1.41.59.51 0 1.02-.2 1.41-.59l7.78-7.78 2.81-2.81c.8-.78.8-2.07 0-2.86zM5.41 20L4 18.59l7.72-7.72 1.47 1.35L5.41 20z\"/>\n",
              "  </svg>\n",
              "      </button>\n",
              "      \n",
              "  <style>\n",
              "    .colab-df-container {\n",
              "      display:flex;\n",
              "      flex-wrap:wrap;\n",
              "      gap: 12px;\n",
              "    }\n",
              "\n",
              "    .colab-df-convert {\n",
              "      background-color: #E8F0FE;\n",
              "      border: none;\n",
              "      border-radius: 50%;\n",
              "      cursor: pointer;\n",
              "      display: none;\n",
              "      fill: #1967D2;\n",
              "      height: 32px;\n",
              "      padding: 0 0 0 0;\n",
              "      width: 32px;\n",
              "    }\n",
              "\n",
              "    .colab-df-convert:hover {\n",
              "      background-color: #E2EBFA;\n",
              "      box-shadow: 0px 1px 2px rgba(60, 64, 67, 0.3), 0px 1px 3px 1px rgba(60, 64, 67, 0.15);\n",
              "      fill: #174EA6;\n",
              "    }\n",
              "\n",
              "    [theme=dark] .colab-df-convert {\n",
              "      background-color: #3B4455;\n",
              "      fill: #D2E3FC;\n",
              "    }\n",
              "\n",
              "    [theme=dark] .colab-df-convert:hover {\n",
              "      background-color: #434B5C;\n",
              "      box-shadow: 0px 1px 3px 1px rgba(0, 0, 0, 0.15);\n",
              "      filter: drop-shadow(0px 1px 2px rgba(0, 0, 0, 0.3));\n",
              "      fill: #FFFFFF;\n",
              "    }\n",
              "  </style>\n",
              "\n",
              "      <script>\n",
              "        const buttonEl =\n",
              "          document.querySelector('#df-1439c635-2dcf-4a54-af96-a22f3eb60790 button.colab-df-convert');\n",
              "        buttonEl.style.display =\n",
              "          google.colab.kernel.accessAllowed ? 'block' : 'none';\n",
              "\n",
              "        async function convertToInteractive(key) {\n",
              "          const element = document.querySelector('#df-1439c635-2dcf-4a54-af96-a22f3eb60790');\n",
              "          const dataTable =\n",
              "            await google.colab.kernel.invokeFunction('convertToInteractive',\n",
              "                                                     [key], {});\n",
              "          if (!dataTable) return;\n",
              "\n",
              "          const docLinkHtml = 'Like what you see? Visit the ' +\n",
              "            '<a target=\"_blank\" href=https://colab.research.google.com/notebooks/data_table.ipynb>data table notebook</a>'\n",
              "            + ' to learn more about interactive tables.';\n",
              "          element.innerHTML = '';\n",
              "          dataTable['output_type'] = 'display_data';\n",
              "          await google.colab.output.renderOutput(dataTable, element);\n",
              "          const docLink = document.createElement('div');\n",
              "          docLink.innerHTML = docLinkHtml;\n",
              "          element.appendChild(docLink);\n",
              "        }\n",
              "      </script>\n",
              "    </div>\n",
              "  </div>\n",
              "  "
            ],
            "text/plain": [
              "Golf Range           Between 1,000,001 and 5,000,000  ...  More than 5,000,000\n",
              "What is your major?                                   ...                     \n",
              "Computer Science                                0.25  ...             0.666667\n",
              "Other                                           0.25  ...             0.333333\n",
              "Statistics                                      0.50  ...             0.000000\n",
              "\n",
              "[3 rows x 6 columns]"
            ]
          },
          "metadata": {},
          "execution_count": 15
        }
      ]
    },
    {
      "cell_type": "code",
      "source": [
        "cond_mg.T.plot.bar()"
      ],
      "metadata": {
        "colab": {
          "base_uri": "https://localhost:8080/",
          "height": 463
        },
        "id": "SFN2XrPyrUZU",
        "outputId": "5c7289cf-61dc-475d-c26a-aa58de8e2148"
      },
      "execution_count": 26,
      "outputs": [
        {
          "output_type": "execute_result",
          "data": {
            "text/plain": [
              "<matplotlib.axes._subplots.AxesSubplot at 0x7f91d4931250>"
            ]
          },
          "metadata": {},
          "execution_count": 26
        },
        {
          "output_type": "display_data",
          "data": {
            "image/png": "[encoded data removed]",
            "text/plain": [
              "<Figure size 432x288 with 1 Axes>"
            ]
          },
          "metadata": {
            "needs_background": "light"
          }
        }
      ]
    },
    {
      "cell_type": "markdown",
      "metadata": {
        "id": "FMb6JbDcc8kU"
      },
      "source": [
        "Each student gave a specific numeric answer. No two answers were identical, so just generalizing with a histogram would not have been helpful. Rather than numeric specifics, the range of numbers provided reasonable suspicions as to why or how that a student found a solution. In drastic scenarios, there were low ballers who perhaps just guessed or did not spend a ton of time considering the problem, people who matched around the guesses from the source, perhaps more analytically, and big picture thinkers who went big with guesses. With this specific group, big and small are subjective, so breaking the guesses into ranges allowed a personality categorizing system that still summed up the data. That is to say, it is more meaning ful to draw a distinction between 5000 and 5 million than 5000 and 5001.\n",
        "\n",
        "Reaching a conclusion would be rooted in logic, and logic is taught through education. The natural conditional to this question was the students' majors. Stats majors frequently guessed on the lower end, CS majors were more prevalant in the higher number guesses, and the all encompassing \"other\" category was scattered between all of the ranges, logical because they all have variety in their taught logic. \n",
        "\n",
        "Our team wanted to look at this from a more general angle, with more forgiveness for numerical error. We adapted our perception of a \"correct guess\" to be to the same order of magintude as the answers supplied.\n",
        "\n"
      ]
    },
    {
      "cell_type": "code",
      "source": [
        "import math\n",
        "\n",
        "def get_order_of_magnitude(g):\n",
        "  return math.floor(math.log(g, 10))\n",
        "\n",
        "df_class[\"guess\"] = df_class[\"Suppose you wanted to fill an average-sized school bus entirely with golf balls.  How many golf balls do you think you would need?\"].map(get_order_of_magnitude)\n",
        "joint_guess_major = pd.crosstab(df_class[\"guess\"], df_class[\"What is your major?\"], normalize=True)\n",
        "major_dist = joint_guess_major.sum(axis=0)\n",
        "cond_guess_major = joint_guess_major.divide(major_dist, axis=1)\n",
        "cond_guess_major.T.plot.bar()"
      ],
      "metadata": {
        "colab": {
          "base_uri": "https://localhost:8080/",
          "height": 377
        },
        "id": "TGkfq2YD56vI",
        "outputId": "e4fbc2b6-b5df-408c-a35f-f6cdfe2177b4"
      },
      "execution_count": 27,
      "outputs": [
        {
          "output_type": "execute_result",
          "data": {
            "text/plain": [
              "<matplotlib.axes._subplots.AxesSubplot at 0x7f91d4a5e790>"
            ]
          },
          "metadata": {},
          "execution_count": 27
        },
        {
          "output_type": "display_data",
          "data": {
            "image/png": "[encoded data removed]",
            "text/plain": [
              "<Figure size 432x288 with 1 Axes>"
            ]
          },
          "metadata": {
            "needs_background": "light"
          }
        }
      ]
    },
    {
      "cell_type": "markdown",
      "source": [
        "Both of these analyses have validity in thought process, and provide simialr conclusions, but shape the framework of success differently. "
      ],
      "metadata": {
        "id": "r1NAqIkZ6GmM"
      }
    },
    {
      "cell_type": "markdown",
      "metadata": {
        "id": "rlclwdA0pGb0"
      },
      "source": [
        "## Question 4\n",
        "\n",
        "Write and answer your own question using this data set."
      ]
    },
    {
      "cell_type": "markdown",
      "source": [
        "If a student from DATA 301 was selected at random, based on their major, what is the probability that they consider themself:\n",
        "1. A sports fan \n",
        "\n",
        "P(sports fan|Stats Major) = 0.111111\n",
        "\n",
        "P(sports fan|CS Major) = 0.722222\n",
        "\n",
        "P(sports fan|Not CS or Stats) = 0.166667\n",
        "\n",
        "2. Artistic\n",
        "\n",
        "P(artistic|Stats Major) = 0.214286\n",
        "\n",
        "P(artistic|CS Major) = 0.428571\n",
        "\n",
        "P(artistic|Not CS or Stats) = 0.357143\n",
        "\n",
        "3. Both a sports fan and artistic\n",
        "\n",
        "P(Both|Stats Major) = 0.333333\n",
        "\n",
        "P(Both|CS Major) = 0.333333\n",
        "\n",
        "P(Both|Not CS or Stats) = 0.333333\n",
        "\n",
        "4. Neither a sports fan or artistic\n",
        "\n",
        "P(Neither|Stats Major) = 0.411765\n",
        "\n",
        "P(Neither|CS Major) = 0.411765\t\n",
        "\n",
        "P(Neither|Not CS or Stats) = 0.176471\n",
        "\n",
        "These results support that sports are more exclusively favored by CS majors. "
      ],
      "metadata": {
        "id": "7pgP7mwmseQu"
      }
    },
    {
      "cell_type": "code",
      "metadata": {
        "id": "-DGR6Q-QpMls",
        "colab": {
          "base_uri": "https://localhost:8080/",
          "height": 591
        },
        "outputId": "583d420c-7f3e-4c27-f158-906f8fbbfa22"
      },
      "source": [
        "df_both = df_class[(df_class[\"Do you consider yourself a sports fan?\"] == \"Yes\") & (df_class[\"Do you consider yourself artistic?\"]==\"Yes\")]\n",
        "df_both[\"Interests\"] = \"Both\"\n",
        "df_sport = df_class[(df_class[\"Do you consider yourself a sports fan?\"] == \"Yes\") & (df_class[\"Do you consider yourself artistic?\"]==\"No\")]\n",
        "df_sport[\"Interests\"] = \"Sports\"\n",
        "df_art = df_class[(df_class[\"Do you consider yourself a sports fan?\"] == \"No\") & (df_class[\"Do you consider yourself artistic?\"]==\"Yes\")]\n",
        "df_art[\"Interests\"] = \"Arts\"\n",
        "df_none = df_class[(df_class[\"Do you consider yourself a sports fan?\"] == \"No\") & (df_class[\"Do you consider yourself artistic?\"]==\"No\")]\n",
        "df_none[\"Interests\"] = \"Neither\"\n",
        "\n",
        "df_interest = pd.concat([df_sport, df_both, df_art, df_none])\n",
        "df_interest\n",
        "\n",
        "joint_interests = pd.crosstab(df_interest[\"What is your major?\"], df_interest[\"Interests\"],normalize=True)\n",
        "joint_interests\n",
        "int_dist = joint_interests.sum(axis=0) \n",
        "int_dist\n",
        "# axis = 0 adds columns; axis = 1 adds rows\n",
        "cond_ = joint_interests.divide(int_dist, axis=1)\n",
        "cond_\n"
      ],
      "execution_count": 17,
      "outputs": [
        {
          "output_type": "stream",
          "name": "stderr",
          "text": [
            "/usr/local/lib/python3.7/dist-packages/ipykernel_launcher.py:2: SettingWithCopyWarning: \n",
            "A value is trying to be set on a copy of a slice from a DataFrame.\n",
            "Try using .loc[row_indexer,col_indexer] = value instead\n",
            "\n",
            "See the caveats in the documentation: https://pandas.pydata.org/pandas-docs/stable/user_guide/indexing.html#returning-a-view-versus-a-copy\n",
            "  \n",
            "/usr/local/lib/python3.7/dist-packages/ipykernel_launcher.py:4: SettingWithCopyWarning: \n",
            "A value is trying to be set on a copy of a slice from a DataFrame.\n",
            "Try using .loc[row_indexer,col_indexer] = value instead\n",
            "\n",
            "See the caveats in the documentation: https://pandas.pydata.org/pandas-docs/stable/user_guide/indexing.html#returning-a-view-versus-a-copy\n",
            "  after removing the cwd from sys.path.\n",
            "/usr/local/lib/python3.7/dist-packages/ipykernel_launcher.py:6: SettingWithCopyWarning: \n",
            "A value is trying to be set on a copy of a slice from a DataFrame.\n",
            "Try using .loc[row_indexer,col_indexer] = value instead\n",
            "\n",
            "See the caveats in the documentation: https://pandas.pydata.org/pandas-docs/stable/user_guide/indexing.html#returning-a-view-versus-a-copy\n",
            "  \n",
            "/usr/local/lib/python3.7/dist-packages/ipykernel_launcher.py:8: SettingWithCopyWarning: \n",
            "A value is trying to be set on a copy of a slice from a DataFrame.\n",
            "Try using .loc[row_indexer,col_indexer] = value instead\n",
            "\n",
            "See the caveats in the documentation: https://pandas.pydata.org/pandas-docs/stable/user_guide/indexing.html#returning-a-view-versus-a-copy\n",
            "  \n"
          ]
        },
        {
          "output_type": "execute_result",
          "data": {
            "text/html": [
              "\n",
              "  <div id=\"df-af3ea17e-158a-4c3c-ac7c-661f474a9f89\">\n",
              "    <div class=\"colab-df-container\">\n",
              "      <div>\n",
              "<style scoped>\n",
              "    .dataframe tbody tr th:only-of-type {\n",
              "        vertical-align: middle;\n",
              "    }\n",
              "\n",
              "    .dataframe tbody tr th {\n",
              "        vertical-align: top;\n",
              "    }\n",
              "\n",
              "    .dataframe thead th {\n",
              "        text-align: right;\n",
              "    }\n",
              "</style>\n",
              "<table border=\"1\" class=\"dataframe\">\n",
              "  <thead>\n",
              "    <tr style=\"text-align: right;\">\n",
              "      <th>Interests</th>\n",
              "      <th>Arts</th>\n",
              "      <th>Both</th>\n",
              "      <th>Neither</th>\n",
              "      <th>Sports</th>\n",
              "    </tr>\n",
              "    <tr>\n",
              "      <th>What is your major?</th>\n",
              "      <th></th>\n",
              "      <th></th>\n",
              "      <th></th>\n",
              "      <th></th>\n",
              "    </tr>\n",
              "  </thead>\n",
              "  <tbody>\n",
              "    <tr>\n",
              "      <th>Computer Science</th>\n",
              "      <td>0.428571</td>\n",
              "      <td>0.333333</td>\n",
              "      <td>0.411765</td>\n",
              "      <td>0.722222</td>\n",
              "    </tr>\n",
              "    <tr>\n",
              "      <th>Other</th>\n",
              "      <td>0.357143</td>\n",
              "      <td>0.333333</td>\n",
              "      <td>0.176471</td>\n",
              "      <td>0.166667</td>\n",
              "    </tr>\n",
              "    <tr>\n",
              "      <th>Statistics</th>\n",
              "      <td>0.214286</td>\n",
              "      <td>0.333333</td>\n",
              "      <td>0.411765</td>\n",
              "      <td>0.111111</td>\n",
              "    </tr>\n",
              "  </tbody>\n",
              "</table>\n",
              "</div>\n",
              "      <button class=\"colab-df-convert\" onclick=\"convertToInteractive('df-af3ea17e-158a-4c3c-ac7c-661f474a9f89')\"\n",
              "              title=\"Convert this dataframe to an interactive table.\"\n",
              "              style=\"display:none;\">\n",
              "        \n",
              "  <svg xmlns=\"http://www.w3.org/2000/svg\" height=\"24px\"viewBox=\"0 0 24 24\"\n",
              "       width=\"24px\">\n",
              "    <path d=\"M0 0h24v24H0V0z\" fill=\"none\"/>\n",
              "    <path d=\"M18.56 5.44l.94 2.06.94-2.06 2.06-.94-2.06-.94-.94-2.06-.94 2.06-2.06.94zm-11 1L8.5 8.5l.94-2.06 2.06-.94-2.06-.94L8.5 2.5l-.94 2.06-2.06.94zm10 10l.94 2.06.94-2.06 2.06-.94-2.06-.94-.94-2.06-.94 2.06-2.06.94z\"/><path d=\"M17.41 7.96l-1.37-1.37c-.4-.4-.92-.59-1.43-.59-.52 0-1.04.2-1.43.59L10.3 9.45l-7.72 7.72c-.78.78-.78 2.05 0 2.83L4 21.41c.39.39.9.59 1.41.59.51 0 1.02-.2 1.41-.59l7.78-7.78 2.81-2.81c.8-.78.8-2.07 0-2.86zM5.41 20L4 18.59l7.72-7.72 1.47 1.35L5.41 20z\"/>\n",
              "  </svg>\n",
              "      </button>\n",
              "      \n",
              "  <style>\n",
              "    .colab-df-container {\n",
              "      display:flex;\n",
              "      flex-wrap:wrap;\n",
              "      gap: 12px;\n",
              "    }\n",
              "\n",
              "    .colab-df-convert {\n",
              "      background-color: #E8F0FE;\n",
              "      border: none;\n",
              "      border-radius: 50%;\n",
              "      cursor: pointer;\n",
              "      display: none;\n",
              "      fill: #1967D2;\n",
              "      height: 32px;\n",
              "      padding: 0 0 0 0;\n",
              "      width: 32px;\n",
              "    }\n",
              "\n",
              "    .colab-df-convert:hover {\n",
              "      background-color: #E2EBFA;\n",
              "      box-shadow: 0px 1px 2px rgba(60, 64, 67, 0.3), 0px 1px 3px 1px rgba(60, 64, 67, 0.15);\n",
              "      fill: #174EA6;\n",
              "    }\n",
              "\n",
              "    [theme=dark] .colab-df-convert {\n",
              "      background-color: #3B4455;\n",
              "      fill: #D2E3FC;\n",
              "    }\n",
              "\n",
              "    [theme=dark] .colab-df-convert:hover {\n",
              "      background-color: #434B5C;\n",
              "      box-shadow: 0px 1px 3px 1px rgba(0, 0, 0, 0.15);\n",
              "      filter: drop-shadow(0px 1px 2px rgba(0, 0, 0, 0.3));\n",
              "      fill: #FFFFFF;\n",
              "    }\n",
              "  </style>\n",
              "\n",
              "      <script>\n",
              "        const buttonEl =\n",
              "          document.querySelector('#df-af3ea17e-158a-4c3c-ac7c-661f474a9f89 button.colab-df-convert');\n",
              "        buttonEl.style.display =\n",
              "          google.colab.kernel.accessAllowed ? 'block' : 'none';\n",
              "\n",
              "        async function convertToInteractive(key) {\n",
              "          const element = document.querySelector('#df-af3ea17e-158a-4c3c-ac7c-661f474a9f89');\n",
              "          const dataTable =\n",
              "            await google.colab.kernel.invokeFunction('convertToInteractive',\n",
              "                                                     [key], {});\n",
              "          if (!dataTable) return;\n",
              "\n",
              "          const docLinkHtml = 'Like what you see? Visit the ' +\n",
              "            '<a target=\"_blank\" href=https://colab.research.google.com/notebooks/data_table.ipynb>data table notebook</a>'\n",
              "            + ' to learn more about interactive tables.';\n",
              "          element.innerHTML = '';\n",
              "          dataTable['output_type'] = 'display_data';\n",
              "          await google.colab.output.renderOutput(dataTable, element);\n",
              "          const docLink = document.createElement('div');\n",
              "          docLink.innerHTML = docLinkHtml;\n",
              "          element.appendChild(docLink);\n",
              "        }\n",
              "      </script>\n",
              "    </div>\n",
              "  </div>\n",
              "  "
            ],
            "text/plain": [
              "Interests                Arts      Both   Neither    Sports\n",
              "What is your major?                                        \n",
              "Computer Science     0.428571  0.333333  0.411765  0.722222\n",
              "Other                0.357143  0.333333  0.176471  0.166667\n",
              "Statistics           0.214286  0.333333  0.411765  0.111111"
            ]
          },
          "metadata": {},
          "execution_count": 17
        }
      ]
    },
    {
      "cell_type": "code",
      "source": [
        "cond_.T.plot.bar(stacked=True)"
      ],
      "metadata": {
        "colab": {
          "base_uri": "https://localhost:8080/",
          "height": 323
        },
        "id": "A6LewPbRLESD",
        "outputId": "c58acabb-e4d9-474f-cc53-d9b77a5dea92"
      },
      "execution_count": 18,
      "outputs": [
        {
          "output_type": "execute_result",
          "data": {
            "text/plain": [
              "<matplotlib.axes._subplots.AxesSubplot at 0x7f91d4cf8c90>"
            ]
          },
          "metadata": {},
          "execution_count": 18
        },
        {
          "output_type": "display_data",
          "data": {
            "image/png": "[encoded data removed]",
            "text/plain": [
              "<Figure size 432x288 with 1 Axes>"
            ]
          },
          "metadata": {
            "needs_background": "light"
          }
        }
      ]
    }
  ]
}